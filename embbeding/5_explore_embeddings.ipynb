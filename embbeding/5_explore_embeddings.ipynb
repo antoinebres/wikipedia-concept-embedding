{
 "cells": [
  {
   "cell_type": "code",
   "execution_count": 1,
   "metadata": {},
   "outputs": [
    {
     "name": "stderr",
     "output_type": "stream",
     "text": [
      "Using TensorFlow backend.\n"
     ]
    }
   ],
   "source": [
    "from keras.models import load_model\n",
    "import numpy as np\n",
    "import json\n",
    "from itertools import chain\n",
    "from collections import Counter, OrderedDict\n",
    "import pandas as pd"
   ]
  },
  {
   "cell_type": "code",
   "execution_count": 31,
   "metadata": {},
   "outputs": [],
   "source": [
    "books = pd.read_csv('../saved_embeddings/three_dims/page_names.tsv', sep='\\t', header=None)[0].to_list()\n",
    "book_weights = pd.read_csv('../saved_embeddings/three_dims/page_embedding.tsv', sep='\\t', header=None).values\n",
    "\n",
    "links = pd.read_csv('../saved_embeddings/three_dims/link_names.tsv', sep='\\t', header=None)[0].to_list()\n",
    "link_weights = pd.read_csv('../saved_embeddings/three_dims/link_embedding.tsv', sep='\\t', header=None).values\n"
   ]
  },
  {
   "cell_type": "code",
   "execution_count": 32,
   "metadata": {},
   "outputs": [],
   "source": [
    "books = [b.replace(\" (langage)\", \"\") for b in books]"
   ]
  },
  {
   "cell_type": "code",
   "execution_count": 33,
   "metadata": {},
   "outputs": [],
   "source": [
    "book_index = {book: idx for idx, book in enumerate(books)}\n",
    "index_book = {idx: book for book, idx in book_index.items()}\n",
    "\n",
    "link_index = {link: idx for idx, link in enumerate(links)}\n",
    "index_link = {idx: link for link, idx in link_index.items()}"
   ]
  },
  {
   "cell_type": "markdown",
   "metadata": {},
   "source": [
    "## Add stackshare info\n",
    "to get the category of the tool"
   ]
  },
  {
   "cell_type": "code",
   "execution_count": 5,
   "metadata": {},
   "outputs": [],
   "source": [
    "import json\n",
    "from difflib import get_close_matches\n",
    "\n",
    "with open(\"../../../stackshare_tools_categories.json\", 'r') as f:\n",
    "    stackshare = json.load(f)\n",
    "\n",
    "books_w_cat = {}\n",
    "for k,v in stackshare.items():\n",
    "    book_k = get_close_matches(k, books, n=1, cutoff=0.9)\n",
    "    if book_k:\n",
    "        books_w_cat[book_k[0]] = v\n",
    "\n",
    "r_books_w_cat = {}\n",
    "for k,v in books_w_cat.items():\n",
    "    if not v in r_books_w_cat.keys():\n",
    "        r_books_w_cat[v] = [k]\n",
    "    else:\n",
    "        r_books_w_cat[v].append(k)"
   ]
  },
  {
   "cell_type": "code",
   "execution_count": 49,
   "metadata": {},
   "outputs": [],
   "source": [
    "# r_books_w_cat[\"Frameworks (Full Stack)\"]\n",
    "# r_books_w_cat[\"Javascript UI Libraries\"]\n",
    "# r_books_w_cat[\"Languages\"]\n",
    "# r_books_w_cat[\"Databases\"]"
   ]
  },
  {
   "cell_type": "markdown",
   "metadata": {},
   "source": [
    "### Function to Find Most Similar Entities\n",
    "The function below takes in either a book or a link, a set of embeddings, and returns the n most similar items to the query. It does this by computing the dot product between the query and embeddings. Because we normalized the embeddings, the dot product represents the cosine similarity between two vectors. This is a measure of similarity that does not depend on the magnitude of the vector in contrast to the Euclidean distance. (The Euclidean distance would be another valid metric of similary to use to compare the embeddings.)\n",
    "\n",
    "Once we have the dot products, we can sort the results to find the closest entities in the embedding space. With cosine similarity, higher numbers indicate entities that are closer together, with -1 the furthest apart and +1 closest together."
   ]
  },
  {
   "cell_type": "code",
   "execution_count": 41,
   "metadata": {},
   "outputs": [],
   "source": [
    "def filter_by_cat(name, weights, index_name):\n",
    "    if index_name == 'book':\n",
    "        cat = books_w_cat[name]\n",
    "        sub_books = r_books_w_cat[cat]\n",
    "        n_weights = []\n",
    "        for n in sub_books:\n",
    "            n_weights.append(weights[book_index[n]])\n",
    "        n_book_index = {book: idx for idx, book in enumerate(sub_books)}\n",
    "        n_index_book = {idx: book for book, idx in n_book_index.items()}\n",
    "        return n_book_index, n_index_book, n_weights"
   ]
  },
  {
   "cell_type": "code",
   "execution_count": 59,
   "metadata": {},
   "outputs": [],
   "source": [
    "import matplotlib.pyplot as plt\n",
    "%matplotlib inline\n",
    "plt.style.use('fivethirtyeight')\n",
    "plt.rcParams['font.size'] = 15\n",
    "\n",
    "def find_similar(name, weights, index_name = 'book', n = 10, least = False, return_dist = False, plot = False):\n",
    "    \"\"\"Find n most similar items (or least) to name based on embeddings. Option to also plot the results\"\"\"\n",
    "    \n",
    "    # Select index and reverse index\n",
    "    if index_name == 'book':\n",
    "        index = book_index\n",
    "        rindex = index_book\n",
    "    elif index_name == 'page':\n",
    "        index = link_index\n",
    "        rindex = index_link\n",
    "    \n",
    "    index, rindex, weights = filter_by_cat(name, weights, index_name)\n",
    "    # Check to make sure `name` is in index\n",
    "    try:\n",
    "        # Calculate dot product between book and all others\n",
    "        dists = np.dot(weights, weights[index[name]])\n",
    "    except KeyError:\n",
    "        print(f'{name} Not Found.')\n",
    "        return\n",
    "    \n",
    "    # Sort distance indexes from smallest to largest\n",
    "    sorted_dists = np.argsort(dists)\n",
    "    \n",
    "    # Plot results if specified\n",
    "    if plot:\n",
    "        \n",
    "        # Find furthest and closest items\n",
    "        furthest = sorted_dists[:(n // 2)]\n",
    "        closest = sorted_dists[-n-1: len(dists) - 1]\n",
    "        items = [rindex[c] for c in furthest]\n",
    "        items.extend(rindex[c] for c in closest)\n",
    "        \n",
    "        # Find furthest and closets distances\n",
    "        distances = [dists[c] for c in furthest]\n",
    "        distances.extend(dists[c] for c in closest)\n",
    "        \n",
    "        colors = ['r' for _ in range(n //2)]\n",
    "        colors.extend('g' for _ in range(n))\n",
    "        \n",
    "        data = pd.DataFrame({'distance': distances}, index = items)\n",
    "        \n",
    "        # Horizontal bar chart\n",
    "        data['distance'].plot.barh(color = colors, figsize = (10, 8),\n",
    "                                   edgecolor = 'k', linewidth = 2)\n",
    "        plt.xlabel('Cosine Similarity');\n",
    "        plt.axvline(x = 0, color = 'k');\n",
    "        \n",
    "        # Formatting for italicized title\n",
    "        name_str = f'{index_name.capitalize()}s Most and Least Similar to'\n",
    "        for word in name.split():\n",
    "            # Title uses latex for italize\n",
    "            name_str += ' $\\it{' + word + '}$'\n",
    "        plt.title(name_str, x = 0.2, size = 28, y = 1.05)\n",
    "        \n",
    "        return None\n",
    "    \n",
    "    # If specified, find the least similar\n",
    "    if least:\n",
    "        # Take the first n from sorted distances\n",
    "        closest = sorted_dists[:n]\n",
    "         \n",
    "        print(f'{index_name.capitalize()}s furthest from {name}.\\n')\n",
    "        \n",
    "    # Otherwise find the most similar\n",
    "    else:\n",
    "        # Take the last n sorted distances\n",
    "        closest = sorted_dists[-n:]\n",
    "        \n",
    "        # Need distances later on\n",
    "        if return_dist:\n",
    "            return dists, closest\n",
    "        \n",
    "        \n",
    "        print(f'{index_name.capitalize()}s closest to {name}.\\n')\n",
    "        \n",
    "    # Need distances later on\n",
    "    if return_dist:\n",
    "        return dists, closest\n",
    "    \n",
    "    \n",
    "    # Print formatting\n",
    "    max_width = max([len(rindex[c]) for c in closest])\n",
    "    \n",
    "    # Print the most similar and distances\n",
    "    for c in reversed(closest):\n",
    "        print(f'{index_name.capitalize()}: {rindex[c]:{max_width + 2}} Similarity: {dists[c]:.{2}}')"
   ]
  },
  {
   "cell_type": "code",
   "execution_count": 62,
   "metadata": {},
   "outputs": [
    {
     "data": {
      "image/png": "[encoded data removed]",
      "text/plain": [
       "<Figure size 720x576 with 1 Axes>"
      ]
     },
     "metadata": {},
     "output_type": "display_data"
    }
   ],
   "source": [
    "find_similar('Hadoop', book_weights, plot=True)"
   ]
  },
  {
   "cell_type": "code",
   "execution_count": null,
   "metadata": {},
   "outputs": [],
   "source": [
    "find_similar('Python (langage)', book_weights, plot=True)"
   ]
  },
  {
   "cell_type": "code",
   "execution_count": null,
   "metadata": {},
   "outputs": [],
   "source": [
    "find_similar('Pandas', book_weights, plot=True)"
   ]
  },
  {
   "cell_type": "code",
   "execution_count": null,
   "metadata": {},
   "outputs": [],
   "source": [
    "find_similar('NumPy', book_weights, plot=True)"
   ]
  },
  {
   "cell_type": "markdown",
   "metadata": {},
   "source": [
    "### Wikilink Embeddings\n",
    "We also have the embeddings of wikipedia links (which are themselves Wikipedia pages). We can take a similar approach to extract these and find the most similar to a query page."
   ]
  },
  {
   "cell_type": "code",
   "execution_count": null,
   "metadata": {},
   "outputs": [],
   "source": [
    "find_similar('c (langage)', link_weights, index_name = 'page', plot=True)"
   ]
  },
  {
   "cell_type": "code",
   "execution_count": null,
   "metadata": {},
   "outputs": [],
   "source": [
    "find_similar('java (langage)', link_weights, index_name = 'page', plot=True)"
   ]
  },
  {
   "cell_type": "code",
   "execution_count": null,
   "metadata": {},
   "outputs": [],
   "source": [
    "model_class = load_model(models_dir + 'first_attempt_lang_class.h5')"
   ]
  },
  {
   "cell_type": "code",
   "execution_count": null,
   "metadata": {},
   "outputs": [],
   "source": [
    "book_weights_class = extract_weights('book_embedding', model_class)\n",
    "book_weights_class.shape"
   ]
  },
  {
   "cell_type": "code",
   "execution_count": null,
   "metadata": {},
   "outputs": [],
   "source": [
    "find_similar('Python (langage)', book_weights_class, plot=True)"
   ]
  },
  {
   "cell_type": "code",
   "execution_count": null,
   "metadata": {
    "scrolled": false
   },
   "outputs": [],
   "source": [
    "find_similar('NumPy', book_weights_class, plot=True)"
   ]
  },
  {
   "cell_type": "code",
   "execution_count": null,
   "metadata": {
    "scrolled": false
   },
   "outputs": [],
   "source": [
    "find_similar('Brainfuck', book_weights_class, plot=True)"
   ]
  },
  {
   "cell_type": "code",
   "execution_count": null,
   "metadata": {},
   "outputs": [],
   "source": [
    "link_weights_class = extract_weights('link_embedding', model_class)"
   ]
  },
  {
   "cell_type": "code",
   "execution_count": null,
   "metadata": {},
   "outputs": [],
   "source": [
    "find_similar('r (langage)', link_weights_class, index_name = 'page', plot=True)"
   ]
  },
  {
   "cell_type": "code",
   "execution_count": null,
   "metadata": {},
   "outputs": [],
   "source": [
    "find_similar('python (langage)', link_weights_class, index_name = 'page', plot=True)"
   ]
  },
  {
   "cell_type": "markdown",
   "metadata": {},
   "source": [
    "## Visualizations\n",
    "One of the most interesting parts about embeddings is that we can use them to visualize concepts such as War and Peace or biography. First we have to take the embeddings from 50 dimensions down to either 3 or 2. We can do this using pca, tsne, or umap. We'll try both tsne and umap for comparison. TSNE takes much longer and is designed to retain local structure within the data. UMAP is generally quicker and is designed for a balance between local and global structure in the embedding.\n",
    "\n",
    "### Manifold Embeddings\n",
    "TSNE: t-Stochastic Distributed Neighbors Embedding, and UMAP: Uniform Manifold Approximation and Projection, are both methods that use the idea of a manifold to map vectors to a lower dimensional embedded space. Therefore, we are taking the 37,000 dimensions in the case of books, embedding them to 50 dimensions with the neural network, and then embedding them down to 2 dimensions with a manifold. The primary idea behind dimension reduction with a manifold is that there is a lower dimensional representation of the vectors that can still capture the variation between different groups. We want the embeddings to represent similar entities close to one another but in fewer dimensions that allow us to visualize the entities."
   ]
  },
  {
   "cell_type": "code",
   "execution_count": null,
   "metadata": {},
   "outputs": [],
   "source": [
    "from sklearn.manifold import TSNE\n",
    "from umap import UMAP"
   ]
  },
  {
   "cell_type": "code",
   "execution_count": null,
   "metadata": {},
   "outputs": [],
   "source": [
    "def reduce_dim(weights, components = 3, method = 'tsne'):\n",
    "    \"\"\"Reduce dimensions of embeddings\"\"\"\n",
    "    if method == 'tsne':\n",
    "        return TSNE(components, metric = 'cosine').fit_transform(weights)\n",
    "    elif method == 'umap':\n",
    "        # Might want to try different parameters for UMAP\n",
    "        return UMAP(n_components=components, metric = 'cosine', \n",
    "                    init = 'random', n_neighbors = 5).fit_transform(weights)"
   ]
  },
  {
   "cell_type": "code",
   "execution_count": null,
   "metadata": {},
   "outputs": [],
   "source": [
    "book_r = reduce_dim(book_weights_class, components = 2, method = 'tsne')\n",
    "book_r.shape"
   ]
  },
  {
   "cell_type": "code",
   "execution_count": null,
   "metadata": {},
   "outputs": [],
   "source": [
    "from IPython.core.interactiveshell import InteractiveShell\n",
    "\n",
    "# Set shell to show all lines of output\n",
    "# InteractiveShell.ast_node_interactivity = 'all'\n",
    "InteractiveShell.ast_node_interactivity = 'last'\n",
    "\n",
    "plt.figure(figsize = (10, 8))\n",
    "plt.plot(book_r[:, 0], book_r[:, 1], 'r.')\n",
    "plt.xlabel('TSNE 1'); plt.ylabel('TSNE 2'); plt.title('Items Embeddings Visualized with TSNE');"
   ]
  },
  {
   "cell_type": "code",
   "execution_count": null,
   "metadata": {},
   "outputs": [],
   "source": [
    "book_ru = reduce_dim(book_weights_class, components = 2, method = 'umap')\n",
    "\n",
    "plt.figure(figsize = (10, 8))\n",
    "plt.plot(book_ru[:, 0], book_ru[:, 1], 'g.');\n",
    "plt.xlabel('UMAP 1'); plt.ylabel('UMAP 2'); plt.title('Book Embeddings Visualized with UMAP');"
   ]
  },
  {
   "cell_type": "code",
   "execution_count": null,
   "metadata": {},
   "outputs": [],
   "source": [
    "info = list(chain(*[set(book[1]) for book in books]))\n",
    "info_counts = count_items(info)\n",
    "list(info_counts.items())[:10]"
   ]
  },
  {
   "cell_type": "code",
   "execution_count": null,
   "metadata": {},
   "outputs": [],
   "source": [
    "genres = [book[1].get('paradigme', 'None').lower() for book in books]\n",
    "\n",
    "# Remove genres not found\n",
    "genre_counts = count_items(genres)\n",
    "del genre_counts['none']\n",
    "list(genre_counts.items())[:10]"
   ]
  },
  {
   "cell_type": "code",
   "execution_count": null,
   "metadata": {},
   "outputs": [],
   "source": [
    "genre_to_include = list(genre_counts.keys())[:10]\n",
    "idx_include = []\n",
    "genres = []\n",
    "\n",
    "for i, book in enumerate(books):\n",
    "    if 'paradigme' in book[1].keys():\n",
    "        if book[1]['paradigme'].lower() in genre_to_include:\n",
    "            idx_include.append(i)\n",
    "            genres.append(book[1]['paradigme'].capitalize())"
   ]
  },
  {
   "cell_type": "code",
   "execution_count": null,
   "metadata": {},
   "outputs": [],
   "source": [
    "ints, gen = pd.factorize(genres)\n",
    "gen[:5]"
   ]
  },
  {
   "cell_type": "code",
   "execution_count": null,
   "metadata": {},
   "outputs": [],
   "source": [
    "plt.figure(figsize = (10, 8))\n",
    "\n",
    "# Plot embedding\n",
    "plt.scatter(book_r[idx_include, 0], book_r[idx_include, 1], \n",
    "            c = ints, cmap = plt.cm.tab10)\n",
    "\n",
    "# Add colorbar and appropriate labels\n",
    "cbar = plt.colorbar()\n",
    "cbar.set_ticks([])\n",
    "for j, lab in enumerate(gen):\n",
    "    cbar.ax.text(10, j * 0.9 + 0.5, lab, ha='left', va='center')\n",
    "cbar.ax.set_title('Paradigme', loc = 'left')\n",
    "\n",
    "\n",
    "plt.xlabel('TSNE 1'); plt.ylabel('TSNE 2'); plt.title('TSNE Visualization of Book Embeddings');"
   ]
  },
  {
   "cell_type": "code",
   "execution_count": null,
   "metadata": {},
   "outputs": [],
   "source": [
    "plt.figure(figsize = (10, 8))\n",
    "\n",
    "# Plot embedding\n",
    "plt.scatter(book_ru[idx_include, 0], book_ru[idx_include, 1], \n",
    "            c = ints, cmap = plt.cm.tab10)\n",
    "\n",
    "# Add colorbar and appropriate labels\n",
    "cbar = plt.colorbar()\n",
    "cbar.set_ticks([])\n",
    "for j, lab in enumerate(gen):\n",
    "    cbar.ax.text(10, j * 0.9 + 0.5, lab, ha='left', va='center')\n",
    "cbar.ax.set_title('Paradigme', loc = 'left')\n",
    "\n",
    "\n",
    "plt.xlabel('UMAP 1'); plt.ylabel('UMAP 2'); plt.title('UMAP Visualization of Book Embeddings');"
   ]
  },
  {
   "cell_type": "markdown",
   "metadata": {},
   "source": [
    "### Most Popular Books in Embedding\n",
    "Let's see the embedding labeled with the 10 books most often mentioned by other books."
   ]
  },
  {
   "cell_type": "code",
   "execution_count": null,
   "metadata": {},
   "outputs": [],
   "source": [
    "def plot_by_attribute(attribute):\n",
    "    \"\"\"Color book embedding by `attribute`\"\"\"\n",
    "    # Find all the attribute values\n",
    "    attrs = [book[1].get(attribute, 0) for book in books]\n",
    "\n",
    "    # Remove attributes not found\n",
    "    attr_counts = count_items(attrs)\n",
    "    del attr_counts[0]\n",
    "    \n",
    "    # Include 10 most popular attributes\n",
    "    attr_to_include, counts = list(attr_counts.keys())[:10], list(attr_counts.values())[:10]\n",
    "    \n",
    "    idx_include = []\n",
    "    attributes = []\n",
    "\n",
    "    # Iterate through books searching for the attribute\n",
    "    for i, book in enumerate(books):\n",
    "        # Limit to books with the attribute\n",
    "        if attribute in book[1].keys():\n",
    "            # Limit to attribute in the 10 most popular\n",
    "            if book[1][attribute] in attr_to_include:\n",
    "                idx_include.append(i)\n",
    "                attributes.append(book[1][attribute])\n",
    "                \n",
    "    # Map to integers\n",
    "    ints, attrs = pd.factorize(attributes)\n",
    "    plt.figure(figsize = (12, 10))\n",
    "\n",
    "    plt.scatter(book_r[:, 0], book_r[:, 1], marker = '.', color = 'lightblue', alpha = 0.2)\n",
    "    \n",
    "    # Plot embedding with only specific attribute highlighted\n",
    "    plt.scatter(book_r[idx_include, 0], book_r[idx_include, 1], alpha = 0.6,\n",
    "                c = ints, cmap = plt.cm.tab10, marker = 'o', s = 50)\n",
    "\n",
    "    # Add colorbar and appropriate labels\n",
    "    cbar = plt.colorbar()\n",
    "    cbar.set_ticks([])\n",
    "    tick_labels = [f'{attr}: {count}' for attr, count in zip(attr_to_include, counts)]\n",
    "    # Labeling\n",
    "    for j, lab in enumerate(tick_labels):\n",
    "        cbar.ax.text(10, j * 0.9 + 0.5, lab, ha='left', va='center')\n",
    "    cbar.ax.set_title(f'{attribute.capitalize()}: Count', loc = 'left')\n",
    "\n",
    "\n",
    "    plt.xlabel('TSNE 1'); plt.ylabel('TSNE 2'); plt.title(f'Item Embeddings with {attribute.capitalize()}');"
   ]
  },
  {
   "cell_type": "code",
   "execution_count": null,
   "metadata": {},
   "outputs": [],
   "source": [
    "plot_by_attribute('développeur')"
   ]
  },
  {
   "cell_type": "code",
   "execution_count": null,
   "metadata": {},
   "outputs": [],
   "source": [
    "plot_by_attribute('licence')"
   ]
  },
  {
   "cell_type": "code",
   "execution_count": null,
   "metadata": {},
   "outputs": [],
   "source": [
    "plot_by_attribute('date de première version')"
   ]
  },
  {
   "cell_type": "markdown",
   "metadata": {},
   "source": [
    "### Pages Visualization\n",
    "Let's look at reducing the dimension of the embedding for the wikilinks. We'll then visualize them in the same way as with the books."
   ]
  },
  {
   "cell_type": "code",
   "execution_count": null,
   "metadata": {},
   "outputs": [],
   "source": [
    "link_r = reduce_dim(link_weights_class, components = 2, method = 'tsne')\n",
    "link_r.shape"
   ]
  },
  {
   "cell_type": "code",
   "execution_count": null,
   "metadata": {},
   "outputs": [],
   "source": [
    "idx_to_include = [idx for link, idx in link_index.items() if 'catégorie:' in link]\n",
    "\n",
    "categories = []\n",
    "\n",
    "for book in books:\n",
    "    for link in book[2]:\n",
    "        if 'catégorie:' in link.lower():\n",
    "            categories.append(link)\n",
    "            \n",
    "c_counts = count_items(categories)\n",
    "list(c_counts.items())[:5]"
   ]
  },
  {
   "cell_type": "code",
   "execution_count": null,
   "metadata": {},
   "outputs": [],
   "source": [
    "idx = []\n",
    "\n",
    "# Find the index of the most popular links\n",
    "for link in list(c_counts.keys())[:10]:\n",
    "    link_idx = link_index[link.lower()]\n",
    "    \n",
    "    # Find index of category \n",
    "    index = int(np.where(np.array(idx_to_include) == link_idx)[0])\n",
    "    idx.append(index)"
   ]
  },
  {
   "cell_type": "code",
   "execution_count": null,
   "metadata": {},
   "outputs": [],
   "source": [
    "plt.figure(figsize = (12, 12))\n",
    "plt.scatter(link_r[:, 0], link_r[:, 1], alpha = 0.6)\n",
    "\n",
    "for i in idx:\n",
    "    x, y = link_r[i, 0], link_r[i, 1]\n",
    "    s = index_link[idx_to_include[i]].split(':')[-1]\n",
    "    _ = plt.text(x, y, s, fontsize = 18);\n",
    "    \n",
    "plt.xlabel('TSNE 1'); plt.ylabel('TSNE 2'); plt.title('Wikilinks Category Embedding Visualized with TSNE');"
   ]
  }
 ],
 "metadata": {
  "kernelspec": {
   "display_name": "Python 3.6.10 64-bit ('ds': conda)",
   "language": "python",
   "name": "python361064bitdsconda12cc25f9d69d44a399eabbfeb231183e"
  },
  "language_info": {
   "codemirror_mode": {
    "name": "ipython",
    "version": 3
   },
   "file_extension": ".py",
   "mimetype": "text/x-python",
   "name": "python",
   "nbconvert_exporter": "python",
   "pygments_lexer": "ipython3",
   "version": "3.6.10"
  }
 },
 "nbformat": 4,
 "nbformat_minor": 4
}
