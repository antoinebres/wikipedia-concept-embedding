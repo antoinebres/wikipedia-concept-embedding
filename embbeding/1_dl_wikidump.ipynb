{
 "cells": [
  {
   "cell_type": "code",
   "execution_count": 1,
   "metadata": {},
   "outputs": [
    {
     "name": "stderr",
     "output_type": "stream",
     "text": [
      "Using TensorFlow backend.\n"
     ]
    }
   ],
   "source": [
    "import requests\n",
    "from bs4 import BeautifulSoup\n",
    "import os\n",
    "import time\n",
    "from keras.utils import get_file\n",
    "try:\n",
    "    from urllib.request import urlretrieve\n",
    "except ImportError:\n",
    "    from urllib import urlretrieve\n",
    "import xml.sax\n",
    "\n",
    "import subprocess\n",
    "import re\n",
    "import mwparserfromhell\n",
    "import json"
   ]
  },
  {
   "cell_type": "code",
   "execution_count": 2,
   "metadata": {},
   "outputs": [
    {
     "data": {
      "text/plain": [
       "['../',\n",
       " '20191201/',\n",
       " '20191220/',\n",
       " '20200101/',\n",
       " '20200120/',\n",
       " '20200201/',\n",
       " '20200220/',\n",
       " '20200301/',\n",
       " '20200401/',\n",
       " 'frwiki/',\n",
       " 'latest/']"
      ]
     },
     "execution_count": 2,
     "metadata": {},
     "output_type": "execute_result"
    }
   ],
   "source": [
    "base_url = 'https://dumps.wikimedia.org/frwiki/'\n",
    "index = requests.get(base_url).text\n",
    "soup_index = BeautifulSoup(index, 'html.parser')\n",
    "\n",
    "# Find the links that are dates of dumps\n",
    "dumps = [a['href'] for a in soup_index.find_all('a') if \n",
    "         a.has_attr('href')]\n",
    "dumps"
   ]
  },
  {
   "cell_type": "code",
   "execution_count": 3,
   "metadata": {},
   "outputs": [],
   "source": [
    "dump_url = base_url + '20200301/'\n",
    "index = requests.get(dump_url).text"
   ]
  },
  {
   "cell_type": "code",
   "execution_count": 4,
   "metadata": {},
   "outputs": [],
   "source": [
    "soup_dump = BeautifulSoup(index, 'html.parser')"
   ]
  },
  {
   "cell_type": "code",
   "execution_count": 5,
   "metadata": {},
   "outputs": [
    {
     "data": {
      "text/plain": [
       "[('frwiki-20200301-pages-articles-multistream.xml.bz2', ['4.5', 'GB']),\n",
       " ('frwiki-20200301-pages-articles-multistream1.xml-p1p275787.bz2',\n",
       "  ['471.7', 'MB']),\n",
       " ('frwiki-20200301-pages-articles-multistream-index1.txt-p1p275787.bz2',\n",
       "  ['1.3', 'MB']),\n",
       " ('frwiki-20200301-pages-articles-multistream2.xml-p275788p927545.bz2',\n",
       "  ['517.8', 'MB']),\n",
       " ('frwiki-20200301-pages-articles-multistream-index2.txt-p275788p927545.bz2',\n",
       "  ['3.0', 'MB'])]"
      ]
     },
     "execution_count": 5,
     "metadata": {},
     "output_type": "execute_result"
    }
   ],
   "source": [
    "files = []\n",
    "\n",
    "# Search through all files\n",
    "for file in soup_dump.find_all('li', {'class': 'file'}):\n",
    "    text = file.text\n",
    "    # Select the relevant files\n",
    "    if 'pages-articles' in text:\n",
    "        files.append((text.split()[0], text.split()[1:]))\n",
    "        \n",
    "files[:5]"
   ]
  },
  {
   "cell_type": "code",
   "execution_count": 9,
   "metadata": {},
   "outputs": [
    {
     "data": {
      "text/plain": [
       "['frwiki-20200301-pages-articles1.xml-p1p275787.bz2',\n",
       " 'frwiki-20200301-pages-articles2.xml-p275788p927545.bz2',\n",
       " 'frwiki-20200301-pages-articles3.xml-p927546p2427545.bz2',\n",
       " 'frwiki-20200301-pages-articles3.xml-p2427546p2516881.bz2',\n",
       " 'frwiki-20200301-pages-articles4.xml-p2516882p4016881.bz2']"
      ]
     },
     "execution_count": 9,
     "metadata": {},
     "output_type": "execute_result"
    }
   ],
   "source": [
    "files_to_download = [file[0] for file in files if '.xml-p' in file[0] and 'multistream' not in file[0]]\n",
    "files_to_download[:5]"
   ]
  },
  {
   "cell_type": "code",
   "execution_count": 53,
   "metadata": {
    "collapsed": true
   },
   "outputs": [
    {
     "name": "stdout",
     "output_type": "stream",
     "text": [
      "Downloading data from https://dumps.wikimedia.org/frwiki/20200301/frwiki-20200301-pages-articles-multistream1.xml-p1p275787.bz2\n",
      "494600192/494599757 [==============================] - 249s 1us/step\n",
      "Downloading data from https://dumps.wikimedia.org/frwiki/20200301/frwiki-20200301-pages-articles-multistream2.xml-p275788p927545.bz2\n",
      "542932992/542925079 [==============================] - 323s 1us/step\n",
      "Downloading data from https://dumps.wikimedia.org/frwiki/20200301/frwiki-20200301-pages-articles-multistream3.xml-p927546p2427545.bz2\n",
      "585400320/585392681 [==============================] - 340s 1us/step\n",
      "Downloading data from https://dumps.wikimedia.org/frwiki/20200301/frwiki-20200301-pages-articles-multistream3.xml-p2427546p2516881.bz2\n",
      "27795456/27790069 [==============================] - 7s 0us/step\n",
      "Downloading data from https://dumps.wikimedia.org/frwiki/20200301/frwiki-20200301-pages-articles-multistream4.xml-p2516882p4016881.bz2\n",
      "524091392/524083807 [==============================] - 286s 1us/step\n",
      "Downloading data from https://dumps.wikimedia.org/frwiki/20200301/frwiki-20200301-pages-articles-multistream4.xml-p4016882p4592355.bz2\n",
      "194977792/194970022 [==============================] - 72s 0us/step\n",
      "Downloading data from https://dumps.wikimedia.org/frwiki/20200301/frwiki-20200301-pages-articles-multistream5.xml-p4592356p6092355.bz2\n",
      "538476544/538473252 [==============================] - 277s 1us/step\n",
      "Downloading data from https://dumps.wikimedia.org/frwiki/20200301/frwiki-20200301-pages-articles-multistream5.xml-p6092356p7494128.bz2\n",
      "450191360/450186313 [==============================] - 247s 1us/step\n",
      "Downloading data from https://dumps.wikimedia.org/frwiki/20200301/frwiki-20200301-pages-articles-multistream6.xml-p7494129p8994128.bz2\n",
      "338821120/338818282 [==============================] - 118s 0us/step\n",
      "Downloading data from https://dumps.wikimedia.org/frwiki/20200301/frwiki-20200301-pages-articles-multistream6.xml-p8994129p10494128.bz2\n",
      "390004736/389999890 [==============================] - 121s 0us/step\n",
      "Downloading data from https://dumps.wikimedia.org/frwiki/20200301/frwiki-20200301-pages-articles-multistream6.xml-p10494129p11994128.bz2\n",
      "386580480/386577233 [==============================] - 223s 1us/step\n",
      "Downloading data from https://dumps.wikimedia.org/frwiki/20200301/frwiki-20200301-pages-articles-multistream6.xml-p11994129p13159158.bz2\n",
      "311468032/311462868 [==============================] - 92s 0us/step\n",
      "Downloading data from https://dumps.wikimedia.org/frwiki/20200301/frwiki-20200301-pages-articles1.xml-p1p275787.bz2\n",
      "489406464/489399342 [==============================] - 239s 0us/step\n",
      "Downloading data from https://dumps.wikimedia.org/frwiki/20200301/frwiki-20200301-pages-articles2.xml-p275788p927545.bz2\n",
      "530071552/530066520 [==============================] - 147s 0us/step\n",
      "Downloading data from https://dumps.wikimedia.org/frwiki/20200301/frwiki-20200301-pages-articles3.xml-p927546p2427545.bz2\n",
      "557359104/557351113 [==============================] - 242s 0us/step\n",
      "Downloading data from https://dumps.wikimedia.org/frwiki/20200301/frwiki-20200301-pages-articles3.xml-p2427546p2516881.bz2\n",
      "26116096/26112230 [==============================] - 14s 1us/step\n",
      "Downloading data from https://dumps.wikimedia.org/frwiki/20200301/frwiki-20200301-pages-articles4.xml-p2516882p4016881.bz2\n",
      "496844800/496844739 [==============================] - 245s 0us/step\n",
      "Downloading data from https://dumps.wikimedia.org/frwiki/20200301/frwiki-20200301-pages-articles4.xml-p4016882p4592355.bz2\n",
      "184360960/184354072 [==============================] - 100s 1us/step\n",
      "Downloading data from https://dumps.wikimedia.org/frwiki/20200301/frwiki-20200301-pages-articles5.xml-p4592356p6092355.bz2\n",
      "507592704/507585244 [==============================] - 273s 1us/step\n",
      "Downloading data from https://dumps.wikimedia.org/frwiki/20200301/frwiki-20200301-pages-articles5.xml-p6092356p7494128.bz2\n",
      "424525824/424523420 [==============================] - 162s 0us/step\n",
      "Downloading data from https://dumps.wikimedia.org/frwiki/20200301/frwiki-20200301-pages-articles6.xml-p7494129p8994128.bz2\n",
      "320561152/320555660 [==============================] - 123s 0us/step\n",
      "Downloading data from https://dumps.wikimedia.org/frwiki/20200301/frwiki-20200301-pages-articles6.xml-p8994129p10494128.bz2\n",
      "370098176/370095695 [==============================] - 228s 1us/step\n",
      "Downloading data from https://dumps.wikimedia.org/frwiki/20200301/frwiki-20200301-pages-articles6.xml-p10494129p11994128.bz2\n",
      "365649920/365648658 [==============================] - 147s 0us/step\n",
      "Downloading data from https://dumps.wikimedia.org/frwiki/20200301/frwiki-20200301-pages-articles6.xml-p11994129p13159158.bz2\n",
      "293330944/293324732 [==============================] - 132s 0us/step\n"
     ]
    }
   ],
   "source": [
    "keras_home = '/users/antoine.bres/.keras/datasets/'\n",
    "data_paths = []\n",
    "file_info = []\n",
    "\n",
    "# Iterate through each file\n",
    "for file in files_to_download:\n",
    "    path = keras_home + file\n",
    "    \n",
    "    # Check to see if the path exists (if the file is already downloaded)\n",
    "    if not os.path.exists(path):\n",
    "        # If not, download the file\n",
    "        data_paths.append(get_file(file, dump_url + file))\n",
    "        # Find the file size in MB\n",
    "        file_size = os.stat(path).st_size / 1e6\n",
    "        \n",
    "        # Find the number of articles\n",
    "        file_articles = int(file.split('p')[-1].split('.')[-2]) - int(file.split('p')[-2])\n",
    "        file_info.append((file, file_size, file_articles))\n",
    "        \n",
    "    # If the file is already downloaded find some information\n",
    "    else:\n",
    "        data_paths.append(path)\n",
    "        # Find the file size in MB\n",
    "        file_size = os.stat(path).st_size / 1e6\n",
    "        \n",
    "        # Find the number of articles\n",
    "        file_number = int(file.split('p')[-1].split('.')[-2]) - int(file.split('p')[-2])\n",
    "\n",
    "        file_info.append((file.split('-')[-1], file_size, file_number))"
   ]
  },
  {
   "cell_type": "code",
   "execution_count": null,
   "metadata": {},
   "outputs": [],
   "source": []
  }
 ],
 "metadata": {
  "kernelspec": {
   "display_name": "Python 3.6.10 64-bit ('ds': conda)",
   "language": "python",
   "name": "python361064bitdsconda12cc25f9d69d44a399eabbfeb231183e"
  },
  "language_info": {
   "codemirror_mode": {
    "name": "ipython",
    "version": 3
   },
   "file_extension": ".py",
   "mimetype": "text/x-python",
   "name": "python",
   "nbconvert_exporter": "python",
   "pygments_lexer": "ipython3",
   "version": "3.6.10"
  }
 },
 "nbformat": 4,
 "nbformat_minor": 1
}
