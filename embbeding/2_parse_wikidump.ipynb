{
 "cells": [
  {
   "cell_type": "code",
   "execution_count": 1,
   "metadata": {},
   "outputs": [
    {
     "data": {
      "text/plain": [
       "['/users/antoine.bres/.keras/datasets/frwiki-20200301-pages-articles-multistream5.xml-p4592356p6092355.bz2',\n",
       " '/users/antoine.bres/.keras/datasets/frwiki-20200301-pages-articles6.xml-p7494129p8994128.bz2',\n",
       " '/users/antoine.bres/.keras/datasets/frwiki-20200301-pages-articles1.xml-p1p275787.bz2',\n",
       " '/users/antoine.bres/.keras/datasets/frwiki-20200301-pages-articles-multistream1.xml-p1p275787.bz2',\n",
       " '/users/antoine.bres/.keras/datasets/frwiki-20200301-pages-articles-multistream4.xml-p2516882p4016881.bz2',\n",
       " '/users/antoine.bres/.keras/datasets/frwiki-20200301-pages-articles-multistream4.xml-p4016882p4592355.bz2',\n",
       " '/users/antoine.bres/.keras/datasets/frwiki-20200301-pages-articles3.xml-p927546p2427545.bz2',\n",
       " '/users/antoine.bres/.keras/datasets/frwiki-20200301-pages-articles-multistream3.xml-p2427546p2516881.bz2',\n",
       " '/users/antoine.bres/.keras/datasets/frwiki-20200301-pages-articles6.xml-p10494129p11994128.bz2',\n",
       " '/users/antoine.bres/.keras/datasets/frwiki-20200301-pages-articles-multistream5.xml-p6092356p7494128.bz2',\n",
       " '/users/antoine.bres/.keras/datasets/frwiki-20200301-pages-articles6.xml-p11994129p13159158.bz2',\n",
       " '/users/antoine.bres/.keras/datasets/frwiki-20200301-pages-articles5.xml-p4592356p6092355.bz2',\n",
       " '/users/antoine.bres/.keras/datasets/frwiki-20200301-pages-articles-multistream3.xml-p927546p2427545.bz2',\n",
       " '/users/antoine.bres/.keras/datasets/frwiki-20200301-pages-articles-multistream6.xml-p7494129p8994128.bz2',\n",
       " '/users/antoine.bres/.keras/datasets/frwiki-20200301-pages-articles6.xml-p8994129p10494128.bz2',\n",
       " '/users/antoine.bres/.keras/datasets/frwiki-20200301-pages-articles-multistream6.xml-p8994129p10494128.bz2',\n",
       " '/users/antoine.bres/.keras/datasets/frwiki-20200301-pages-articles-multistream6.xml-p11994129p13159158.bz2',\n",
       " '/users/antoine.bres/.keras/datasets/frwiki-20200301-pages-articles4.xml-p4016882p4592355.bz2',\n",
       " '/users/antoine.bres/.keras/datasets/frwiki-20200301-pages-articles-multistream6.xml-p10494129p11994128.bz2',\n",
       " '/users/antoine.bres/.keras/datasets/frwiki-20200301-pages-articles4.xml-p2516882p4016881.bz2',\n",
       " '/users/antoine.bres/.keras/datasets/frwiki-20200301-pages-articles3.xml-p2427546p2516881.bz2',\n",
       " '/users/antoine.bres/.keras/datasets/frwiki-20200301-pages-articles-multistream2.xml-p275788p927545.bz2',\n",
       " '/users/antoine.bres/.keras/datasets/frwiki-20200301-pages-articles2.xml-p275788p927545.bz2',\n",
       " '/users/antoine.bres/.keras/datasets/frwiki-20200301-pages-articles5.xml-p6092356p7494128.bz2']"
      ]
     },
     "execution_count": 1,
     "metadata": {},
     "output_type": "execute_result"
    }
   ],
   "source": [
    "from glob import glob\n",
    "import os\n",
    "\n",
    "keras_home = '/users/antoine.bres/.keras/datasets/'\n",
    "data_paths = glob(keras_home + '*.bz2')\n",
    "data_paths"
   ]
  },
  {
   "cell_type": "code",
   "execution_count": 2,
   "metadata": {},
   "outputs": [
    {
     "data": {
      "text/plain": [
       "'/users/antoine.bres/.keras/datasets/frwiki-20200301-pages-articles1.xml-p1p275787.bz2'"
      ]
     },
     "execution_count": 2,
     "metadata": {},
     "output_type": "execute_result"
    }
   ],
   "source": [
    "import bz2\n",
    "# enumerate(bz2.BZ2File(data_path, 'r'))\n",
    "data_path = data_paths[2]\n",
    "data_path"
   ]
  },
  {
   "cell_type": "code",
   "execution_count": 3,
   "metadata": {},
   "outputs": [],
   "source": [
    "import re\n",
    "import mwparserfromhell\n",
    "\n",
    "def process_article(title, text, timestamp, template = 'Infobox Langage de programmation'):\n",
    "    \"\"\"Process a wikipedia article looking for template\"\"\"\n",
    "    \n",
    "    # Create a parsing object\n",
    "    wikicode = mwparserfromhell.parse(text)\n",
    "    \n",
    "    # Search through templates for the template\n",
    "    matches = wikicode.filter_templates(matches = template)\n",
    "    \n",
    "    # Filter out errant matches\n",
    "    matches = [x for x in matches if re.findall(template.lower(), x.name.strip_code().strip().lower())]\n",
    "    \n",
    "    if len(matches) >= 1:\n",
    "        # template_name = matches[0].name.strip_code().strip()\n",
    "\n",
    "        # Extract information from infobox\n",
    "        properties = {param.name.strip_code().strip(): param.value.strip_code().strip() \n",
    "                      for param in matches[0].params\n",
    "                      if param.value.strip_code().strip()}\n",
    "\n",
    "        # Extract internal wikilinks\n",
    "        wikilinks = [x.title.strip_code().strip() for x in wikicode.filter_wikilinks()]\n",
    "\n",
    "        # Extract external links\n",
    "        exlinks = [x.url.strip_code().strip() for x in wikicode.filter_external_links()]\n",
    "\n",
    "        # Find approximate length of article\n",
    "        text_length = len(wikicode.strip_code().strip())\n",
    "\n",
    "        return (title, properties, wikilinks, exlinks, timestamp, text_length)"
   ]
  },
  {
   "cell_type": "code",
   "execution_count": 4,
   "metadata": {},
   "outputs": [],
   "source": [
    "import xml.sax\n",
    "\n",
    "class WikiXmlHandler(xml.sax.handler.ContentHandler):\n",
    "    \"\"\"Parse through XML data using SAX\"\"\"\n",
    "    def __init__(self, template_names):\n",
    "        xml.sax.handler.ContentHandler.__init__(self)\n",
    "        self._buffer = None\n",
    "        self._values = {}\n",
    "        self._current_tag = None\n",
    "        self._programation_languages = []\n",
    "        self._article_count = 0\n",
    "        self._non_matches = []\n",
    "        self._template_string = \"|\".join(template_names)\n",
    "\n",
    "    def characters(self, content):\n",
    "        \"\"\"Characters between opening and closing tags\"\"\"\n",
    "        if self._current_tag:\n",
    "            self._buffer.append(content)\n",
    "\n",
    "    def startElement(self, name, attrs):\n",
    "        \"\"\"Opening tag of element\"\"\"\n",
    "        if name in ('title', 'text', 'timestamp'):\n",
    "            self._current_tag = name\n",
    "            self._buffer = []\n",
    "\n",
    "    def endElement(self, name):\n",
    "        \"\"\"Closing tag of element\"\"\"\n",
    "        if name == self._current_tag:\n",
    "            self._values[name] = ' '.join(self._buffer)\n",
    "\n",
    "        if name == 'page':\n",
    "            self._article_count += 1\n",
    "            # Search through the page to see if the page is a book\n",
    "            prog_lang = process_article(**self._values, template=self._template_string)\n",
    "            # Append to the list of books\n",
    "            if prog_lang:\n",
    "                self._programation_languages.append(prog_lang)"
   ]
  },
  {
   "cell_type": "code",
   "execution_count": 5,
   "metadata": {},
   "outputs": [],
   "source": [
    "from timeit import default_timer as timer"
   ]
  },
  {
   "cell_type": "code",
   "execution_count": 6,
   "metadata": {},
   "outputs": [
    {
     "data": {
      "text/plain": [
       "4"
      ]
     },
     "execution_count": 6,
     "metadata": {},
     "output_type": "execute_result"
    }
   ],
   "source": [
    "os.cpu_count()"
   ]
  },
  {
   "cell_type": "code",
   "execution_count": 7,
   "metadata": {},
   "outputs": [],
   "source": [
    "import gc\n",
    "import json\n",
    "\n",
    "def get_output_name(data_path, partition_dir):\n",
    "    # Create file name based on partition name\n",
    "    p_str = data_path.split('-')[-1].split('.')[-2]\n",
    "    return partition_dir + f'{p_str}.ndjson'"
   ]
  },
  {
   "cell_type": "code",
   "execution_count": 8,
   "metadata": {},
   "outputs": [],
   "source": [
    "def find_prog_languages(data_path, limit=None, save=True):\n",
    "    \"\"\"Find all the programation languages articles from a compressed wikipedia XML dump.\n",
    "       `limit` is an optional argument to only return a set number of books.\n",
    "        If save, books are saved to partition directory based on file name\"\"\"\n",
    "\n",
    "    partition_dir = '../data/wiki/partitions/'\n",
    "    out_dir = get_output_name(data_path, partition_dir)\n",
    "    if not os.path.exists(out_dir):\n",
    "        # Object for handling xml\n",
    "        handler = WikiXmlHandler(template_names=['Infobox Langage de programmation'])\n",
    "        # template_names=['Infobox Langage de programmation','Infobox Logiciel',\"Infobox Système d'exploitation\"]\n",
    "        # Parsing object\n",
    "        parser = xml.sax.make_parser()\n",
    "        parser.setContentHandler(handler)\n",
    "\n",
    "        # Iterate through compressed file\n",
    "        for i, line in enumerate(bz2.BZ2File(data_path, 'r')):\n",
    "            try:\n",
    "                parser.feed(line)\n",
    "            except StopIteration:\n",
    "                break\n",
    "            \n",
    "            # Optional limit\n",
    "            if limit is not None and len(handler._programation_languages) >= limit:\n",
    "                return handler._programation_languages\n",
    "\n",
    "        if save:\n",
    "            # Open the file\n",
    "            with open(out_dir, 'w') as fout:\n",
    "                # Write as json\n",
    "                for lang in handler._programation_languages:\n",
    "                    fout.write(json.dumps(lang) + '\\n')\n",
    "\n",
    "\n",
    "        # Memory management\n",
    "        del handler\n",
    "        del parser\n",
    "        gc.collect()\n",
    "        return None\n",
    "    print(f'{len(os.listdir(partition_dir))} files processed.', end = '\\r')"
   ]
  },
  {
   "cell_type": "code",
   "execution_count": 9,
   "metadata": {},
   "outputs": [
    {
     "data": {
      "text/plain": [
       "(12,\n",
       " '/users/antoine.bres/.keras/datasets/frwiki-20200301-pages-articles5.xml-p6092356p7494128.bz2')"
      ]
     },
     "execution_count": 9,
     "metadata": {},
     "output_type": "execute_result"
    }
   ],
   "source": [
    "partitions = [keras_home + file for file in os.listdir(keras_home) if 'xml-p' in file and 'multistream' not in file]\n",
    "len(partitions), partitions[-1]"
   ]
  },
  {
   "cell_type": "code",
   "execution_count": 11,
   "metadata": {},
   "outputs": [],
   "source": [
    "from multiprocessing import Pool \n",
    "import tqdm \n",
    "\n",
    "# List of lists to single list\n",
    "from itertools import chain\n",
    "\n",
    "# Sending keyword arguments in map\n",
    "from functools import partial"
   ]
  },
  {
   "cell_type": "code",
   "execution_count": 12,
   "metadata": {},
   "outputs": [
    {
     "name": "stdout",
     "output_type": "stream",
     "text": [
      "3391.079689787992 seconds elapsed.\n"
     ]
    }
   ],
   "source": [
    "# Create a pool of workers to execute processes\n",
    "pool = Pool(processes = 4)\n",
    "\n",
    "start = timer()\n",
    "\n",
    "# Map (service, tasks), applies function to each partition\n",
    "results = pool.map(find_prog_languages, partitions)\n",
    "\n",
    "pool.close()\n",
    "pool.join()\n",
    "\n",
    "end = timer()\n",
    "print(f'{end - start} seconds elapsed.')"
   ]
  },
  {
   "cell_type": "code",
   "execution_count": null,
   "metadata": {},
   "outputs": [],
   "source": []
  }
 ],
 "metadata": {
  "file_extension": ".py",
  "kernelspec": {
   "display_name": "Python 3.6.10 64-bit ('ds': conda)",
   "language": "python",
   "name": "python361064bitdsconda12cc25f9d69d44a399eabbfeb231183e"
  },
  "language_info": {
   "codemirror_mode": {
    "name": "ipython",
    "version": 3
   },
   "file_extension": ".py",
   "mimetype": "text/x-python",
   "name": "python",
   "nbconvert_exporter": "python",
   "pygments_lexer": "ipython3",
   "version": "3.6.10"
  },
  "mimetype": "text/x-python",
  "name": "python",
  "npconvert_exporter": "python",
  "pygments_lexer": "ipython3",
  "version": 3
 },
 "nbformat": 4,
 "nbformat_minor": 2
}
