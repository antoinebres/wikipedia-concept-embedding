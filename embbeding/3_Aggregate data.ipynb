{
 "cells": [
  {
   "cell_type": "code",
   "execution_count": 1,
   "metadata": {},
   "outputs": [],
   "source": [
    "def read_data(file_path):\n",
    "    \"\"\"Read in json data from `file_path`\"\"\"\n",
    "    \n",
    "    data = []\n",
    "    \n",
    "    # Open the file and load in json\n",
    "    with open(file_path, 'r') as fin:\n",
    "        for l in fin.readlines():\n",
    "            data.append(json.loads(l))\n",
    "            \n",
    "    return data"
   ]
  },
  {
   "cell_type": "code",
   "execution_count": null,
   "metadata": {},
   "outputs": [],
   "source": [
    "from multiprocessing.dummy import Pool as Threadpool\n",
    "from itertools import chain\n",
    "from timeit import default_timer as timer\n",
    "import os\n",
    "import json"
   ]
  },
  {
   "cell_type": "code",
   "execution_count": 6,
   "metadata": {},
   "outputs": [
    {
     "name": "stdout",
     "output_type": "stream",
     "text": [
      "Found 4661 items in 0 seconds.\n"
     ]
    }
   ],
   "source": [
    "start = timer()\n",
    "\n",
    "# List of files to read in\n",
    "saved_files = ['../data/wiki/partitions/' + x for x in os.listdir('../data/wiki/partitions/')]\n",
    "\n",
    "# Create a threadpool for reading in files\n",
    "threadpool = Threadpool(processes = 10)\n",
    "\n",
    "# Read in the files as a list of lists\n",
    "results = threadpool.map(read_data, saved_files)\n",
    "\n",
    "# Flatten the list of lists to a single list\n",
    "book_list = list(chain(*results))\n",
    "\n",
    "end = timer()\n",
    "\n",
    "print(f'Found {len(book_list)} items in {round(end - start)} seconds.')"
   ]
  },
  {
   "cell_type": "code",
   "execution_count": 7,
   "metadata": {},
   "outputs": [
    {
     "name": "stdout",
     "output_type": "stream",
     "text": [
      "Items saved.\n"
     ]
    }
   ],
   "source": [
    "if not os.path.exists(os.getcwd() + '../data/found_items_filtered.ndjson'):\n",
    "    with open('../data/found_items_filtered.ndjson', 'wt') as fout:\n",
    "        for book in book_list:\n",
    "             fout.write(json.dumps(book) + '\\n')\n",
    "    print('Items saved.')\n",
    "else:\n",
    "    print('Files already saved.')"
   ]
  },
  {
   "cell_type": "code",
   "execution_count": 10,
   "metadata": {},
   "outputs": [
    {
     "name": "stdout",
     "output_type": "stream",
     "text": [
      "found_items_filtered.ndjson \u001b[1m\u001b[36mwiki\u001b[m\u001b[m\r\n",
      "p1p275787_prog_lang.ndjson\r\n"
     ]
    }
   ],
   "source": [
    "!ls ../data"
   ]
  },
  {
   "cell_type": "code",
   "execution_count": null,
   "metadata": {},
   "outputs": [],
   "source": []
  }
 ],
 "metadata": {
  "kernelspec": {
   "display_name": "Python 3.6.10 64-bit ('ds': conda)",
   "language": "python",
   "name": "python361064bitdsconda12cc25f9d69d44a399eabbfeb231183e"
  },
  "language_info": {
   "codemirror_mode": {
    "name": "ipython",
    "version": 3
   },
   "file_extension": ".py",
   "mimetype": "text/x-python",
   "name": "python",
   "nbconvert_exporter": "python",
   "pygments_lexer": "ipython3",
   "version": "3.6.10"
  }
 },
 "nbformat": 4,
 "nbformat_minor": 4
}
